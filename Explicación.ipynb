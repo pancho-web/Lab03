{
  "nbformat": 4,
  "nbformat_minor": 0,
  "metadata": {
    "colab": {
      "name": "Explicación.ipynb",
      "provenance": []
    },
    "kernelspec": {
      "name": "python3",
      "display_name": "Python 3"
    },
    "language_info": {
      "name": "python"
    }
  },
  "cells": [
    {
      "cell_type": "code",
      "metadata": {
        "id": "JaMMZiKl_5K8"
      },
      "source": [
        "#Ocupamos esta función para obtener la distancia entre la altura teórica(obtenida a partir de la velocidad experimental), y la altura de la fotocelda\n",
        "def distancia(velocidad_experimental, h_fotocelda = 0.19):\n",
        "  altura = ((velocidad_experimental**2)/(2*9.81)) + 0.25\n",
        "  return altura - h_fotocelda\n",
        "\n",
        "velocidades = [] #Lista con las velocidades experimentales\n",
        "deltas = [] #Lista para poder agregar las diferencias entre las alturas teóricas y altura fotocelda\n",
        "\n",
        "for i in velocidades: #Loop para aplicar la función\n",
        "  deltas.append(distancia(i))"
      ],
      "execution_count": null,
      "outputs": []
    },
    {
      "cell_type": "code",
      "metadata": {
        "id": "7iSAMK0UBooB"
      },
      "source": [
        "#Función para obtener la velocidad teórica, que relaciona la altura inicial, la distancia de la fotocelda y la altura máxima del loop\n",
        "def velocidad_teorica(h, delta, h2=0.25):\n",
        "  return (2*9.81*((h-delta)-h2))**(1/2)\n",
        "\n",
        "i = 0\n",
        "while i < 8: #Loop para iterar y obtener las velocidades para cada parámetro en las listas de velocidades y deltas\n",
        "  delta = deltas[i]\n",
        "  numero = float(input(\"Ingresa altura inicial: \"))\n",
        "  print(\"Velocidad teórica es: \", velocidad(numero,delta))\n",
        "  i+= 1"
      ],
      "execution_count": null,
      "outputs": []
    }
  ]
}